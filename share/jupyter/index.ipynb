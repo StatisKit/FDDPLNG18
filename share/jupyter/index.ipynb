{
 "cells": [
  {
   "cell_type": "markdown",
   "metadata": {},
   "source": [
    "# Computational studies for the article entitled \"A spatio-temporal and multiscale characterization of tree development based on patchiness\"\n",
    "\n",
    "This Jupyter notebook lists all notebooks available to illustrate the modeling apporoach presented in the eponymous article.\n",
    "\n",
    "It can be used to re-execute all these notebooks at once. Note that most of the following notebooks are saving results in figures.\n",
    "The analysis of tree patchiness has been broken down into three steps:"
   ]
  },
  {
   "cell_type": "markdown",
   "metadata": {},
   "source": [
    "* [Identification](identification.ipynb) of patches using multiple change-point models."
   ]
  },
  {
   "cell_type": "code",
   "execution_count": 2,
   "metadata": {},
   "outputs": [],
   "source": [
    "#identification = !jupyter nbconvert --to notebook identification.ipynb --output representation.ipynb"
   ]
  },
  {
   "cell_type": "markdown",
   "metadata": {},
   "source": [
    "* Spatio-temporal [representation](representation.ipynb) of patchiness using directed acyclic graphs."
   ]
  },
  {
   "cell_type": "code",
   "execution_count": 3,
   "metadata": {},
   "outputs": [],
   "source": [
    "#representation = !jupyter nbconvert --to notebook representation.ipynb --output representation.ipynb"
   ]
  },
  {
   "cell_type": "markdown",
   "metadata": {},
   "source": [
    "* [Characterization](characterization.ipynb) of patches using mixture models and partition matching."
   ]
  },
  {
   "cell_type": "code",
   "execution_count": null,
   "metadata": {},
   "outputs": [],
   "source": [
    "characterization = !jupyter nbconvert --to notebook characterization.ipynb --output characterization.ipynb"
   ]
  }
 ],
 "metadata": {
  "kernelspec": {
   "display_name": "Python 3",
   "language": "python",
   "name": "python3"
  },
  "language_info": {
   "codemirror_mode": {
    "name": "ipython",
    "version": 3
   },
   "file_extension": ".py",
   "mimetype": "text/x-python",
   "name": "python",
   "nbconvert_exporter": "python",
   "pygments_lexer": "ipython3",
   "version": "3.6.5"
  }
 },
 "nbformat": 4,
 "nbformat_minor": 2
}
