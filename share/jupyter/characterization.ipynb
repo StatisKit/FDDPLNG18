{
 "cells": [
  {
   "cell_type": "markdown",
   "metadata": {},
   "source": [
    "# Characterization of patches using mixture models and partition matching."
   ]
  },
  {
   "cell_type": "code",
   "execution_count": 2,
   "metadata": {},
   "outputs": [],
   "source": [
    "import networkx\n",
    "import matplotlib\n",
    "%matplotlib nbagg\n",
    "from matplotlib import pyplot"
   ]
  },
  {
   "cell_type": "code",
   "execution_count": 16,
   "metadata": {},
   "outputs": [],
   "source": [
    "import pickle\n",
    "with open('../data/runned.pkl', 'rb') as filehandler:\n",
    "    DAGs = []\n",
    "    patchiness = pickle.load(filehandler)\n",
    "    for tree in patchiness:\n",
    "        old = tree.pop('patchiness')\n",
    "        new = networkx.DiGraph()\n",
    "        for node in old.__dict__[\"node\"]:\n",
    "            new.add_node(node, **old.__dict__[\"node\"][node])\n",
    "        for succ in old.__dict__[\"succ\"]:\n",
    "            for pred in old.__dict__[\"succ\"][succ]:\n",
    "                new.add_edge(succ, pred)\n",
    "        tree['DAG'] = new\n",
    "        DAGs.append(tree)\n",
    "with open('../data/DAGs.pkl', 'wb') as filehandler:\n",
    "    pickle.dump(DAGs, filehandler)"
   ]
  },
  {
   "cell_type": "code",
   "execution_count": 31,
   "metadata": {},
   "outputs": [
    {
     "data": {
      "text/plain": [
       "NodeDataView({'0-00': {'stage': 0, 'scale': 5, 'flush': 2, 'cycle': 0, 'patch': None}, '6-01': {'stage': 6, 'scale': 3, 'flush': 2, 'cycle': 2, 'patch': 'V'}, '6-00': {'stage': 6, 'scale': 5, 'flush': 2, 'cycle': 2, 'patch': 'R'}, '5-02': {'stage': 5, 'scale': 3, 'flush': 1, 'cycle': 2, 'patch': 'R'}, '5-03': {'stage': 5, 'scale': 2, 'flush': 1, 'cycle': 2, 'patch': 'Q'}, '5-00': {'stage': 5, 'scale': 5, 'flush': 1, 'cycle': 2, 'patch': 'V'}, '6-02': {'stage': 6, 'scale': 3, 'flush': 2, 'cycle': 2, 'patch': 'V'}, '8-00': {'stage': 8, 'scale': 5, 'flush': 1, 'cycle': 3, 'patch': None}, '1-00': {'stage': 1, 'scale': 5, 'flush': 0, 'cycle': 1, 'patch': None}, '5-01': {'stage': 5, 'scale': 3, 'flush': 1, 'cycle': 2, 'patch': 'V'}, '7-00': {'stage': 7, 'scale': 5, 'flush': 0, 'cycle': 3, 'patch': None}, '3-00': {'stage': 3, 'scale': 5, 'flush': 2, 'cycle': 1, 'patch': 'Q'}, '2-00': {'stage': 2, 'scale': 5, 'flush': 1, 'cycle': 1, 'patch': 'Q'}, '4-01': {'stage': 4, 'scale': 3, 'flush': 0, 'cycle': 2, 'patch': 'V'}, '4-00': {'stage': 4, 'scale': 5, 'flush': 0, 'cycle': 2, 'patch': 'Q'}, '4-03': {'stage': 4, 'scale': 3, 'flush': 0, 'cycle': 2, 'patch': 'V'}, '4-02': {'stage': 4, 'scale': 2, 'flush': 0, 'cycle': 2, 'patch': 'V'}})"
      ]
     },
     "execution_count": 31,
     "metadata": {},
     "output_type": "execute_result"
    }
   ],
   "source": [
    "new.nodes.data()"
   ]
  },
  {
   "cell_type": "code",
   "execution_count": 17,
   "metadata": {},
   "outputs": [],
   "source": [
    "with open('../data/DAGs.pkl', 'rb') as filehandler:\n",
    "    DAGs = pickle.load(filehandler)"
   ]
  }
 ],
 "metadata": {
  "kernelspec": {
   "display_name": "Python 3",
   "language": "python",
   "name": "python3"
  },
  "language_info": {
   "codemirror_mode": {
    "name": "ipython",
    "version": 3
   },
   "file_extension": ".py",
   "mimetype": "text/x-python",
   "name": "python",
   "nbconvert_exporter": "python",
   "pygments_lexer": "ipython3",
   "version": "3.6.5"
  }
 },
 "nbformat": 4,
 "nbformat_minor": 2
}
